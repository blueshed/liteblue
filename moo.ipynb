{
 "cells": [
  {
   "cell_type": "code",
   "execution_count": 1,
   "metadata": {},
   "outputs": [],
   "source": [
    "from liteblue.moo import Moo\n",
    "from tests.app.config import Config"
   ]
  },
  {
   "cell_type": "code",
   "execution_count": 2,
   "metadata": {},
   "outputs": [
    {
     "name": "stderr",
     "output_type": "stream",
     "text": [
      "[I 200413 20:56:38 moo:49] calling add(*(2, 2), **{})\n",
      "[I 200413 20:56:38 context:55] calling: functools.partial(<function add at 0x106433b80>, 2, 2)\n"
     ]
    },
    {
     "name": "stdout",
     "output_type": "stream",
     "text": [
      "4\n"
     ]
    }
   ],
   "source": [
    "async with Moo(Config) as cow:\n",
    "    print(await cow.add(2, 2))"
   ]
  },
  {
   "cell_type": "code",
   "execution_count": 3,
   "metadata": {},
   "outputs": [
    {
     "name": "stderr",
     "output_type": "stream",
     "text": [
      "[I 200413 20:56:38 moo:49] calling get_user(*(), **{})\n",
      "[I 200413 20:56:38 context:55] calling: functools.partial(<function get_user at 0x1064470d0>)\n"
     ]
    },
    {
     "name": "stdout",
     "output_type": "stream",
     "text": [
      "{'id': 1, 'email': 'pete@blueshed.co.uk'}\n"
     ]
    }
   ],
   "source": [
    "async with Moo(Config, user={\"id\": 1, \"email\": \"pete@blueshed.co.uk\"}) as cow:\n",
    "    print(await cow.get_user())"
   ]
  },
  {
   "cell_type": "code",
   "execution_count": null,
   "metadata": {},
   "outputs": [],
   "source": []
  }
 ],
 "metadata": {
  "kernelspec": {
   "display_name": "Python 3",
   "language": "python",
   "name": "python3"
  },
  "language_info": {
   "codemirror_mode": {
    "name": "ipython",
    "version": 3
   },
   "file_extension": ".py",
   "mimetype": "text/x-python",
   "name": "python",
   "nbconvert_exporter": "python",
   "pygments_lexer": "ipython3",
   "version": "3.8.2"
  }
 },
 "nbformat": 4,
 "nbformat_minor": 4
}
